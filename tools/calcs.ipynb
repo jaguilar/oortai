{
 "cells": [
  {
   "cell_type": "code",
   "execution_count": null,
   "metadata": {},
   "outputs": [],
   "source": [
    "%pip install sympy"
   ]
  },
  {
   "cell_type": "code",
   "execution_count": null,
   "metadata": {},
   "outputs": [
    {
     "name": "stdout",
     "output_type": "stream",
     "text": [
      "[-sqrt(2)*sqrt(a*s), sqrt(2)*sqrt(a*s)]\n",
      "100\n"
     ]
    }
   ],
   "source": [
    "from sympy import *\n",
    "\n",
    "# Computes a formula for the maximum initial velocity where we can decelerate\n",
    "# to a stop over a given distance d.\n",
    "s, a, v, t = symbols('s a v t')\n",
    "\n",
    "decel_t = v / a\n",
    "decel_d = decel_t * (v / 2)\n",
    "print(solve(Eq(s, decel_d), v))\n",
    "\n",
    "print(decel_d.subs({a: 10, s: 100, v: sqrt(2) * sqrt(10 * 100)}))"
   ]
  },
  {
   "cell_type": "code",
   "execution_count": 17,
   "metadata": {},
   "outputs": [
    {
     "name": "stdout",
     "output_type": "stream",
     "text": [
      "bspd**2*t**2*sin(theta)**2 + bspd**2*t**2*cos(theta)**2 - (0.5*eax*t**2 + esx + evx*t)**2 - (0.5*eay*t**2 + esy + evy*t)**2\n",
      "bspd**2*t**2*sin(theta)**2 + bspd**2*t**2*cos(theta)**2 - (0.5*eax*t**2 + esx + evx*t)**2 - (0.5*eay*t**2 + esy + evy*t)**2\n",
      "-esx**2 - esy**2 + t**4*(-0.25*eax**2 - 0.25*eay**2) + t**3*(-1.0*eax*evx - 1.0*eay*evy) + t**2*(bspd**2 - 1.0*eax*esx - 1.0*eay*esy - evx**2 - evy**2) + t*(-2*esx*evx - 2*esy*evy)\n"
     ]
    }
   ],
   "source": [
    "from sympy import *\n",
    "\n",
    "# Define variables.\n",
    "#\n",
    "# Note: we do not define variables for the bullet's starting position, because\n",
    "# we are going to treat the player ship as a fixed frame of reference.\n",
    "# Therefore, esx, esy, evx, and evy need to be modified by the controlled\n",
    "# ship's relative speed and position.\n",
    "esx, esy, evx, evy, eax, eay = symbols('esx esy evx evy eax eay')\n",
    "bspd, theta = symbols('bspd theta')\n",
    "bvx, bvy = bspd * sin(theta), bspd * cos(theta)\n",
    "t = symbols('t', positive=True)\n",
    "\n",
    "# Define the x and y positions of the bullet and the enemy.\n",
    "ex = esx + evx * t + 0.5 * eax * t ** 2\n",
    "ey = esy + evy * t + 0.5 * eay * t ** 2\n",
    "bx = bvx * t\n",
    "by = bvy * t\n",
    "\n",
    "# Solve for the intersection time in each dimension.\n",
    "eq = bx ** 2 + by ** 2 - (ex **2 + ey ** 2)\n",
    "print(eq)\n",
    "print(simplify(eq))\n",
    "\n",
    "eq = bspd**2 * t**2 - (ex ** 2 + ey ** 2)\n",
    "print(collect(expand(eq), t))\n"
   ]
  },
  {
   "cell_type": "code",
   "execution_count": 27,
   "metadata": {},
   "outputs": [
    {
     "data": {
      "text/plain": [
       "[('lead2_raw.rs',\n",
       "  \"/*\\n *                      Code generated with SymPy 1.13.3\\n *\\n *              See http://www.sympy.org/ for more information.\\n *\\n *                       This file is part of 'project'\\n */\\n\\nfn lead2_raw(bspd: f64, eax: f64, eay: f64, esx: f64, esy: f64, evx: f64, evy: f64) -> (f64, f64) {\\n\\n    let out1 = -2.0*((2.0*bspd*esy - 2.82842712474619*(0.5*bspd.powi(2)*esx.powi(2) + 0.5*bspd.powi(2)*esy.powi(2) - 0.125*eax.powi(2)*esy.powi(2) + 0.25*eax*eay*esx*esy + 0.5*eax*esx*esy*evy - 0.5*eax*esy.powi(2)*evx - 0.125*eay.powi(2)*esx.powi(2) - 0.5*eay*esx.powi(2)*evy + 0.5*eay*esx*esy*evx - 0.5*esx.powi(2)*evy.powi(2) + esx*esy*evx*evy - 0.5*esy.powi(2)*evx.powi(2)).sqrt())/(2.0*bspd*esx - eax*esy + eay*esx + 2.0*esx*evy - 2.0*esy*evx)).atan();\\n    let out2 = -2.0*((2.0*bspd*esy + 2.82842712474619*(0.5*bspd.powi(2)*esx.powi(2) + 0.5*bspd.powi(2)*esy.powi(2) - 0.125*eax.powi(2)*esy.powi(2) + 0.25*eax*eay*esx*esy + 0.5*eax*esx*esy*evy - 0.5*eax*esy.powi(2)*evx - 0.125*eay.powi(2)*esx.powi(2) - 0.5*eay*esx.powi(2)*evy + 0.5*eay*esx*esy*evx - 0.5*esx.powi(2)*evy.powi(2) + esx*esy*evx*evy - 0.5*esy.powi(2)*evx.powi(2)).sqrt())/(2.0*bspd*esx - eax*esy + eay*esx + 2.0*esx*evy - 2.0*esy*evx)).atan();\\n    (out1, out2)\\n\\n}\\n\")]"
      ]
     },
     "execution_count": 27,
     "metadata": {},
     "output_type": "execute_result"
    }
   ],
   "source": [
    "# Convert the theta_i expressions to Rust.\n",
    "from sympy.utilities.codegen import codegen\n",
    "codegen(('lead2_raw', theta_i), 'rust')"
   ]
  }
 ],
 "metadata": {
  "kernelspec": {
   "display_name": ".venv",
   "language": "python",
   "name": "python3"
  },
  "language_info": {
   "codemirror_mode": {
    "name": "ipython",
    "version": 3
   },
   "file_extension": ".py",
   "mimetype": "text/x-python",
   "name": "python",
   "nbconvert_exporter": "python",
   "pygments_lexer": "ipython3",
   "version": "3.12.3"
  }
 },
 "nbformat": 4,
 "nbformat_minor": 2
}
